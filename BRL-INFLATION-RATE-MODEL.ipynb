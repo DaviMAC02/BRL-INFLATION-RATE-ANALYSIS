{
 "cells": [
  {
   "cell_type": "markdown",
   "id": "6bbb9277",
   "metadata": {},
   "source": [
    "## Importing the libraries"
   ]
  },
  {
   "cell_type": "code",
   "execution_count": 2,
   "id": "3395395a",
   "metadata": {},
   "outputs": [],
   "source": [
    "import numpy as np\n",
    "import matplotlib.pyplot as plt\n",
    "import pandas as pd"
   ]
  },
  {
   "cell_type": "markdown",
   "id": "87a08a10",
   "metadata": {},
   "source": [
    "## Importing the dataset\n"
   ]
  },
  {
   "cell_type": "code",
   "execution_count": 3,
   "id": "8ea9eddd",
   "metadata": {},
   "outputs": [],
   "source": [
    "dataset = pd.read_csv('inflaction-rate.csv')\n",
    "x = dataset.iloc[:, :-1].values\n",
    "y = dataset.iloc[:, -1].values"
   ]
  },
  {
   "cell_type": "markdown",
   "id": "193513ba",
   "metadata": {},
   "source": [
    "## Splitting the dataset into the Training set and Test set"
   ]
  },
  {
   "cell_type": "code",
   "execution_count": 4,
   "id": "2a47e1be",
   "metadata": {},
   "outputs": [],
   "source": [
    "from sklearn.model_selection import train_test_split\n",
    "x_train, x_test, y_train, y_test = train_test_split(x, y, test_size = 0.2, random_state = 0)"
   ]
  },
  {
   "cell_type": "markdown",
   "id": "8aac559d",
   "metadata": {},
   "source": [
    "## Training the Polynomial Regression model on the whole dataset"
   ]
  },
  {
   "cell_type": "code",
   "execution_count": 5,
   "id": "a123df0f",
   "metadata": {},
   "outputs": [
    {
     "data": {
      "text/plain": [
       "LinearRegression()"
      ]
     },
     "execution_count": 5,
     "metadata": {},
     "output_type": "execute_result"
    }
   ],
   "source": [
    "from sklearn.preprocessing import PolynomialFeatures\n",
    "from sklearn.linear_model import LinearRegression\n",
    "\n",
    "poly_values = PolynomialFeatures(degree = 3)\n",
    "x_poly = poly_values.fit_transform(x_train)\n",
    "\n",
    "linear_regressor = LinearRegression()\n",
    "linear_regressor.fit(x_poly, y_train)\n"
   ]
  },
  {
   "cell_type": "markdown",
   "id": "102bf7f1",
   "metadata": {},
   "source": [
    "## Visualising the Polynomial Regression results"
   ]
  },
  {
   "cell_type": "code",
   "execution_count": 6,
   "id": "39aa0738",
   "metadata": {},
   "outputs": [
    {
     "data": {
      "image/png": "[encoded data removed]",
      "text/plain": [
       "<Figure size 432x288 with 1 Axes>"
      ]
     },
     "metadata": {
      "needs_background": "light"
     },
     "output_type": "display_data"
    }
   ],
   "source": [
    "x_grid = np.arange(min(x), max(x), 0.1)\n",
    "x_grid = x_grid.reshape((len(x_grid), 1))\n",
    "plt.scatter(x, y, color = 'red')\n",
    "plt.plot(x_grid, linear_regressor.predict(poly_values.fit_transform(x_grid)), color = 'blue')\n",
    "plt.title('BRL Inflation Rate')\n",
    "plt.xlabel('Year')\n",
    "plt.ylabel('Inflaction Rate in %')\n",
    "plt.show()"
   ]
  },
  {
   "cell_type": "markdown",
   "id": "96d51135",
   "metadata": {},
   "source": [
    "## Measuring Model Accuracy"
   ]
  },
  {
   "cell_type": "code",
   "execution_count": 7,
   "id": "0004d9f7",
   "metadata": {},
   "outputs": [
    {
     "name": "stdout",
     "output_type": "stream",
     "text": [
      "98.89\n"
     ]
    }
   ],
   "source": [
    "y_pred = linear_regressor.predict(poly_values.fit_transform(x_test))\n",
    "accuracy_rate = (100) - np.divide(np.array(y_pred),np.array(y_test))\n",
    "mean_accuracy_rate = np.mean(accuracy_rate)\n",
    "mean_accuracy_rate = round(mean_accuracy_rate,2)\n",
    "\n",
    "print(mean_accuracy_rate)"
   ]
  }
 ],
 "metadata": {
  "kernelspec": {
   "display_name": "Python 3 (ipykernel)",
   "language": "python",
   "name": "python3"
  },
  "language_info": {
   "codemirror_mode": {
    "name": "ipython",
    "version": 3
   },
   "file_extension": ".py",
   "mimetype": "text/x-python",
   "name": "python",
   "nbconvert_exporter": "python",
   "pygments_lexer": "ipython3",
   "version": "3.9.7"
  }
 },
 "nbformat": 4,
 "nbformat_minor": 5
}
